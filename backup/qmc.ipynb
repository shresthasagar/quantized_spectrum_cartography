{
 "cells": [
  {
   "cell_type": "code",
   "execution_count": 1,
   "id": "23e46899",
   "metadata": {},
   "outputs": [
    {
     "data": {
      "text/plain": [
       "Generator256(\n",
       "  (main): Sequential(\n",
       "    (0): UnFlatten()\n",
       "    (1): ConvTranspose2d(256, 128, kernel_size=(3, 3), stride=(1, 1))\n",
       "    (2): BatchNorm2d(128, eps=1e-05, momentum=0.1, affine=True, track_running_stats=True)\n",
       "    (3): ReLU(inplace=True)\n",
       "    (4): ConvTranspose2d(128, 64, kernel_size=(4, 4), stride=(2, 2), padding=(1, 1))\n",
       "    (5): BatchNorm2d(64, eps=1e-05, momentum=0.1, affine=True, track_running_stats=True)\n",
       "    (6): ReLU(inplace=True)\n",
       "    (7): ConvTranspose2d(64, 32, kernel_size=(4, 4), stride=(2, 2), padding=(1, 1))\n",
       "    (8): BatchNorm2d(32, eps=1e-05, momentum=0.1, affine=True, track_running_stats=True)\n",
       "    (9): ReLU(inplace=True)\n",
       "    (10): ConvTranspose2d(32, 16, kernel_size=(4, 4), stride=(2, 2))\n",
       "    (11): BatchNorm2d(16, eps=1e-05, momentum=0.1, affine=True, track_running_stats=True)\n",
       "    (12): ReLU(inplace=True)\n",
       "    (13): ConvTranspose2d(16, 2, kernel_size=(4, 4), stride=(2, 2))\n",
       "    (14): BatchNorm2d(2, eps=1e-05, momentum=0.1, affine=True, track_running_stats=True)\n",
       "    (15): ReLU(inplace=True)\n",
       "    (16): Conv2d(2, 1, kernel_size=(4, 4), stride=(1, 1))\n",
       "    (17): Sigmoid()\n",
       "  )\n",
       ")"
      ]
     },
     "execution_count": 1,
     "metadata": {},
     "output_type": "execute_result"
    }
   ],
   "source": [
    "from slf_dataset import SLFDataset1bit, DEFAULT_ROOT\n",
    "import matplotlib.pyplot as plt\n",
    "import torch\n",
    "import numpy as np\n",
    "import scipy.io\n",
    "import torch.nn as nn\n",
    "import os\n",
    "import sys\n",
    "\n",
    "# import model classes\n",
    "from networks.ae import Autoencoder, AutoencoderSelu\n",
    "from networks.gan import Generator, Generator256, Generator512\n",
    "\n",
    "MAP_ROOT = '/scratch/sagar/slf/train_set/map_set_torch_raw_unnormalized'\n",
    "SLF_ROOT = '/scratch/sagar/slf/train_set/set_harsh_torch_raw_unnormalized'\n",
    "\n",
    "train_set_slf = SLFDataset1bit(root_dir=os.path.join(SLF_ROOT, 'slf_mat'), \n",
    "                    csv_file=os.path.join(SLF_ROOT, 'details.csv'), total_data=10000, sample_size=[0.1, 0.11])\n",
    "\n",
    "train_set_map = SLFDataset1bit(root_dir=os.path.join(MAP_ROOT, 'slf_mat'), \n",
    "                    csv_file=os.path.join(SLF_ROOT, 'details.csv'), total_data=10000, sample_size=[0.1, 0.11])\n",
    "\n",
    "\n",
    "SLF_MODEL_PATH = '/nfs/stak/users/shressag/sagar/deep_completion/deep_slf/models/full_data_models/1bit_slf_1.model'\n",
    "MAP_MODEL_PATH = '/nfs/stak/users/shressag/sagar/deep_completion/deep_slf/models/full_data_models/1bit_map_1.model'\n",
    "\n",
    "\n",
    "map_network = AutoencoderSelu()\n",
    "checkpoint = torch.load(MAP_MODEL_PATH)\n",
    "map_network.load_state_dict(checkpoint['model_state_dict'])\n",
    "map_network.eval()\n",
    "\n",
    "slf_network = AutoencoderSelu()\n",
    "checkpoint = torch.load(SLF_MODEL_PATH)\n",
    "slf_network.load_state_dict(checkpoint['model_state_dict'])\n",
    "slf_network.eval()\n",
    "\n",
    "generator = Generator256()\n",
    "GAN_PATH = '/home/sagar/Projects/matlab/quantized_spectrum_cartography/deep_prior/trained_models/gan/sngan11_256_unnorm'\n",
    "GAN_PATH_SERVER = '/scratch/sagar/Projects/matlab/quantized_spectrum_cartography/deep_prior/trained_models/gan/sngan11_256_unnorm'\n",
    "\n",
    "try:\n",
    "    checkpoint = torch.load(GAN_PATH, map_location=torch.device('cpu'))\n",
    "except:\n",
    "    checkpoint = torch.load(GAN_PATH_SERVER, map_location=torch.device('cpu'))\n",
    "    \n",
    "generator.load_state_dict(checkpoint['g_model_state_dict'])\n",
    "generator.eval()"
   ]
  },
  {
   "cell_type": "code",
   "execution_count": 2,
   "id": "be096a51",
   "metadata": {},
   "outputs": [],
   "source": [
    "MAP_ROOT = '/scratch/sagar/slf/train_set/map_set_torch_raw_unnormalized'\n",
    "SLF_ROOT = '/scratch/sagar/slf/train_set/set_harsh_torch_raw_unnormalized'\n",
    "\n",
    "train_set_slf = SLFDataset1bit(root_dir=os.path.join(SLF_ROOT, 'slf_mat'), \n",
    "                    csv_file=os.path.join(SLF_ROOT, 'details.csv'), total_data=10000, sample_size=[0.1, 0.11])\n",
    "\n",
    "train_set_map = SLFDataset1bit(root_dir=os.path.join(MAP_ROOT, 'slf_mat'), \n",
    "                    csv_file=os.path.join(SLF_ROOT, 'details.csv'), total_data=10000, sample_size=[0.1, 0.11])\n",
    "\n"
   ]
  },
  {
   "cell_type": "code",
   "execution_count": 3,
   "id": "5aa8a8c2",
   "metadata": {},
   "outputs": [
    {
     "ename": "RuntimeError",
     "evalue": "The size of tensor a (51) must match the size of tensor b (64) at non-singleton dimension 2",
     "output_type": "error",
     "traceback": [
      "\u001b[0;31m---------------------------------------------------------------------------\u001b[0m",
      "\u001b[0;31mRuntimeError\u001b[0m                              Traceback (most recent call last)",
      "\u001b[0;32m<ipython-input-3-6381bf54a85b>\u001b[0m in \u001b[0;36m<module>\u001b[0;34m\u001b[0m\n\u001b[0;32m----> 1\u001b[0;31m \u001b[0mtrain_set_map\u001b[0m\u001b[0;34m[\u001b[0m\u001b[0;36m0\u001b[0m\u001b[0;34m]\u001b[0m\u001b[0;34m\u001b[0m\u001b[0;34m\u001b[0m\u001b[0m\n\u001b[0m",
      "\u001b[0;32m/scratch/sagar/Projects/matlab/deep-spectrum-cartography/deep_prior/slf_dataset.py\u001b[0m in \u001b[0;36m__getitem__\u001b[0;34m(self, idx)\u001b[0m\n\u001b[1;32m    233\u001b[0m             \u001b[0mbool_mask\u001b[0m \u001b[0;34m=\u001b[0m \u001b[0mtorch\u001b[0m\u001b[0;34m.\u001b[0m\u001b[0mFloatTensor\u001b[0m\u001b[0;34m(\u001b[0m\u001b[0;36m1\u001b[0m\u001b[0;34m,\u001b[0m\u001b[0mself\u001b[0m\u001b[0;34m.\u001b[0m\u001b[0mnrow\u001b[0m\u001b[0;34m,\u001b[0m \u001b[0mself\u001b[0m\u001b[0;34m.\u001b[0m\u001b[0mncol\u001b[0m\u001b[0;34m)\u001b[0m\u001b[0;34m.\u001b[0m\u001b[0muniform_\u001b[0m\u001b[0;34m(\u001b[0m\u001b[0;34m)\u001b[0m \u001b[0;34m>\u001b[0m \u001b[0;34m(\u001b[0m\u001b[0mself\u001b[0m\u001b[0;34m.\u001b[0m\u001b[0momega_start_point\u001b[0m\u001b[0;34m+\u001b[0m\u001b[0mrand\u001b[0m\u001b[0;34m)\u001b[0m\u001b[0;34m\u001b[0m\u001b[0;34m\u001b[0m\u001b[0m\n\u001b[1;32m    234\u001b[0m             \u001b[0mint_mask\u001b[0m \u001b[0;34m=\u001b[0m \u001b[0mbool_mask\u001b[0m\u001b[0;34m*\u001b[0m\u001b[0mtorch\u001b[0m\u001b[0;34m.\u001b[0m\u001b[0mones\u001b[0m\u001b[0;34m(\u001b[0m\u001b[0;34m(\u001b[0m\u001b[0;36m1\u001b[0m\u001b[0;34m,\u001b[0m\u001b[0mself\u001b[0m\u001b[0;34m.\u001b[0m\u001b[0mnrow\u001b[0m\u001b[0;34m,\u001b[0m \u001b[0mself\u001b[0m\u001b[0;34m.\u001b[0m\u001b[0mncol\u001b[0m\u001b[0;34m)\u001b[0m\u001b[0;34m,\u001b[0m \u001b[0mdtype\u001b[0m\u001b[0;34m=\u001b[0m\u001b[0mtorch\u001b[0m\u001b[0;34m.\u001b[0m\u001b[0mfloat32\u001b[0m\u001b[0;34m)\u001b[0m\u001b[0;34m\u001b[0m\u001b[0;34m\u001b[0m\u001b[0m\n\u001b[0;32m--> 235\u001b[0;31m             \u001b[0msampled_slf\u001b[0m \u001b[0;34m=\u001b[0m \u001b[0msample\u001b[0m\u001b[0;34m*\u001b[0m\u001b[0mbool_mask\u001b[0m\u001b[0;34m\u001b[0m\u001b[0;34m\u001b[0m\u001b[0m\n\u001b[0m\u001b[1;32m    236\u001b[0m         \u001b[0;32melse\u001b[0m\u001b[0;34m:\u001b[0m\u001b[0;34m\u001b[0m\u001b[0;34m\u001b[0m\u001b[0m\n\u001b[1;32m    237\u001b[0m             \u001b[0mint_mask\u001b[0m \u001b[0;34m=\u001b[0m \u001b[0mself\u001b[0m\u001b[0;34m.\u001b[0m\u001b[0mint_mask\u001b[0m\u001b[0;34m\u001b[0m\u001b[0;34m\u001b[0m\u001b[0m\n",
      "\u001b[0;31mRuntimeError\u001b[0m: The size of tensor a (51) must match the size of tensor b (64) at non-singleton dimension 2"
     ]
    }
   ],
   "source": [
    "train_set_map[0]"
   ]
  },
  {
   "cell_type": "code",
   "execution_count": null,
   "id": "84fed637",
   "metadata": {},
   "outputs": [],
   "source": []
  }
 ],
 "metadata": {
  "kernelspec": {
   "display_name": "Python 3",
   "language": "python",
   "name": "python3"
  },
  "language_info": {
   "codemirror_mode": {
    "name": "ipython",
    "version": 3
   },
   "file_extension": ".py",
   "mimetype": "text/x-python",
   "name": "python",
   "nbconvert_exporter": "python",
   "pygments_lexer": "ipython3",
   "version": "3.6.8"
  }
 },
 "nbformat": 4,
 "nbformat_minor": 5
}
